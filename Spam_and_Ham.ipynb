{
  "nbformat": 4,
  "nbformat_minor": 0,
  "metadata": {
    "colab": {
      "name": "Spam_and_Ham.ipynb",
      "provenance": [],
      "collapsed_sections": []
    },
    "kernelspec": {
      "display_name": "Python 3",
      "name": "python3"
    }
  },
  "cells": [
    {
      "cell_type": "code",
      "metadata": {
        "id": "NDlHUmOrxbAm"
      },
      "source": [
        "import pandas as pd\r\n",
        "import numpy as np\r\n",
        "import matplotlib.pyplot as plt"
      ],
      "execution_count": null,
      "outputs": []
    },
    {
      "cell_type": "code",
      "metadata": {
        "id": "saGZ8ucGxfI9"
      },
      "source": [
        "df_train = pd.read_table('train-data.tsv', header=None)\r\n",
        "df_test = pd.read_table('valid-data.tsv', header=None)"
      ],
      "execution_count": null,
      "outputs": []
    },
    {
      "cell_type": "code",
      "metadata": {
        "id": "Gam23ExUxpEA"
      },
      "source": [
        "ham_msg = df_train[df_train[0] =='ham']\r\n",
        "spam_msg = df_train[df_train[0]=='spam']"
      ],
      "execution_count": null,
      "outputs": []
    },
    {
      "cell_type": "code",
      "metadata": {
        "colab": {
          "base_uri": "https://localhost:8080/"
        },
        "id": "DrAAp9xVxsdk",
        "outputId": "195119d1-362c-4249-9d1d-185d8cd8e15f"
      },
      "source": [
        "ham_msg_df = ham_msg.sample(n = len(spam_msg), random_state = 44)\r\n",
        "spam_msg_df = spam_msg\r\n",
        "print(ham_msg_df.shape, spam_msg_df.shape)"
      ],
      "execution_count": null,
      "outputs": [
        {
          "output_type": "stream",
          "text": [
            "(560, 2) (560, 2)\n"
          ],
          "name": "stdout"
        }
      ]
    },
    {
      "cell_type": "code",
      "metadata": {
        "id": "BxLQ2E8wxxpV"
      },
      "source": [
        "train=pd.concat([ham_msg_df,spam_msg_df],axis=0)"
      ],
      "execution_count": null,
      "outputs": []
    },
    {
      "cell_type": "code",
      "metadata": {
        "id": "X_Y4Sv5kxz9V"
      },
      "source": [
        "from sklearn.model_selection import train_test_split\r\n",
        "train_x, val_x, train_y, val_y = train_test_split(train[1],train[0], random_state = 1)"
      ],
      "execution_count": null,
      "outputs": []
    },
    {
      "cell_type": "code",
      "metadata": {
        "id": "uUzLIZlMyIsC"
      },
      "source": [
        "from sklearn.feature_extraction.text import TfidfVectorizer\r\n",
        "tf_idf_word_vectorizer = TfidfVectorizer()"
      ],
      "execution_count": null,
      "outputs": []
    },
    {
      "cell_type": "code",
      "metadata": {
        "colab": {
          "base_uri": "https://localhost:8080/"
        },
        "id": "M1SfdIySyMtO",
        "outputId": "0e796ce0-5dd5-4ba8-f811-5874e72866e7"
      },
      "source": [
        "tf_idf_word_vectorizer.fit_transform(train_x)"
      ],
      "execution_count": null,
      "outputs": [
        {
          "output_type": "execute_result",
          "data": {
            "text/plain": [
              "<840x3341 sparse matrix of type '<class 'numpy.float64'>'\n",
              "\twith 14259 stored elements in Compressed Sparse Row format>"
            ]
          },
          "metadata": {
            "tags": []
          },
          "execution_count": 16
        }
      ]
    },
    {
      "cell_type": "code",
      "metadata": {
        "id": "rQz5yB9hyOHu"
      },
      "source": [
        "train_x_tf_idf_word = tf_idf_word_vectorizer.transform(train_x)\r\n",
        "val_x_tf_idf_word = tf_idf_word_vectorizer.transform(val_x)"
      ],
      "execution_count": null,
      "outputs": []
    },
    {
      "cell_type": "code",
      "metadata": {
        "colab": {
          "base_uri": "https://localhost:8080/"
        },
        "id": "m5_DtoIfyVEt",
        "outputId": "012ce939-1dfa-49ec-c761-b503ad7ca40e"
      },
      "source": [
        "val_x_tf_idf_word.shape"
      ],
      "execution_count": null,
      "outputs": [
        {
          "output_type": "execute_result",
          "data": {
            "text/plain": [
              "(280, 3341)"
            ]
          },
          "metadata": {
            "tags": []
          },
          "execution_count": 19
        }
      ]
    },
    {
      "cell_type": "code",
      "metadata": {
        "id": "nnjqEy9oyYBa"
      },
      "source": [
        "from sklearn.naive_bayes import MultinomialNB\r\n",
        "from sklearn import model_selection\r\n",
        "nb = MultinomialNB()\r\n",
        "nb_model = nb.fit(train_x_tf_idf_word,train_y)\r\n",
        "accuracy = model_selection.cross_val_score(nb_model, \r\n",
        "                                           val_x_tf_idf_word, \r\n",
        "                                           val_y, \r\n",
        "                                           cv = 10).mean()"
      ],
      "execution_count": null,
      "outputs": []
    },
    {
      "cell_type": "code",
      "metadata": {
        "colab": {
          "background_save": true
        },
        "id": "SAnfpwBNycJV",
        "outputId": "d3910e85-c399-4988-9bf3-2c35c005b12a"
      },
      "source": [
        "accuracy"
      ],
      "execution_count": null,
      "outputs": [
        {
          "output_type": "execute_result",
          "data": {
            "text/plain": [
              "0.9392857142857143"
            ]
          },
          "metadata": {
            "tags": []
          },
          "execution_count": 0
        }
      ]
    },
    {
      "cell_type": "code",
      "metadata": {
        "id": "EXG8ublBz0xz"
      },
      "source": [
        "test_messages = [\"how are you doing today\",\r\n",
        "                   \"sale today! to stop texts call 98912460324\",\r\n",
        "                   \"i dont want to go. can we try it a different day? available sat\",\r\n",
        "                   \"our new mobile video service is live. just install on your phone to start watching.\",\r\n",
        "                   \"you have won £1000 cash! call to claim your prize.\",\r\n",
        "                   \"i'll bring it tomorrow. don't forget the milk.\",\r\n",
        "                   \"wow, is your arm alright. that happened to me one time too\"\r\n",
        "                  ]"
      ],
      "execution_count": 25,
      "outputs": []
    },
    {
      "cell_type": "code",
      "metadata": {
        "id": "8i7KBC7Z0H6M"
      },
      "source": [
        "test_messages = pd.DataFrame(test_messages)"
      ],
      "execution_count": 27,
      "outputs": []
    },
    {
      "cell_type": "code",
      "metadata": {
        "id": "u3QYRvBT0KqR"
      },
      "source": [
        "test_messages_tf_idf_word = tf_idf_word_vectorizer.transform(test_messages[0])"
      ],
      "execution_count": 28,
      "outputs": []
    },
    {
      "cell_type": "code",
      "metadata": {
        "colab": {
          "base_uri": "https://localhost:8080/"
        },
        "id": "BAbKyiaz0NQ4",
        "outputId": "7b51e08b-f3d8-4f27-f4f6-cc1f3d1a2aa4"
      },
      "source": [
        "nb_model.predict(test_messages_tf_idf_word)"
      ],
      "execution_count": 29,
      "outputs": [
        {
          "output_type": "execute_result",
          "data": {
            "text/plain": [
              "array(['ham', 'spam', 'ham', 'spam', 'spam', 'ham', 'ham'], dtype='<U4')"
            ]
          },
          "metadata": {
            "tags": []
          },
          "execution_count": 29
        }
      ]
    }
  ]
}